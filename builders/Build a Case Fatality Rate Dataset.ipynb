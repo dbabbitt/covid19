{
 "cells": [
  {
   "cell_type": "code",
   "execution_count": null,
   "id": "3d7205ea-0165-4200-ad07-e1f30b38c56d",
   "metadata": {},
   "outputs": [],
   "source": []
  },
  {
   "cell_type": "markdown",
   "id": "268a7537-d875-481b-9745-692f46c33585",
   "metadata": {},
   "source": [
    "\n",
    "In epidemiology, a case fatality rate (CFR) — sometimes called case fatality risk — is the proportion of deaths from a certain disease compared to the total number of people diagnosed with the disease for a certain period of time. A CFR is conventionally expressed as a percentage and represents a measure of disease severity. CFRs are most often used for diseases with discrete, limited time courses, such as outbreaks of acute infections. A CFR can only be considered final when all the cases have been resolved (either died or recovered). The preliminary CFR, for example, during the course of an outbreak with a high daily increase and long resolution time would be substantially lower than the final CFR."
   ]
  },
  {
   "cell_type": "markdown",
   "id": "7aa479c6-dfd8-45b3-b417-3e24b11dbabb",
   "metadata": {
    "tags": []
   },
   "source": [
    "\n",
    "# Set up the notebook"
   ]
  },
  {
   "cell_type": "code",
   "execution_count": 1,
   "id": "758c386f-9c0c-4c93-8b2b-8d10d4e67288",
   "metadata": {},
   "outputs": [
    {
     "name": "stdout",
     "output_type": "stream",
     "text": [
      "Pretty printing has been turned OFF\n"
     ]
    }
   ],
   "source": [
    "\n",
    "%pprint"
   ]
  },
  {
   "cell_type": "raw",
   "id": "8176c993-6092-4aea-ad4c-3340ac7b2f0a",
   "metadata": {},
   "source": [
    "\n",
    "from scipy import stats\n",
    "from scipy.stats import pearsonr\n",
    "from stats_charting_utils import StatsChartingUtilities\n",
    "import matplotlib.pyplot as plt\n",
    "import os\n",
    "import seaborn as sns\n",
    "import textwrap\n",
    "%matplotlib inline\n",
    "\n",
    "# Use the following only if you are on a high definition device\n",
    "from matplotlib_inline.backend_inline import set_matplotlib_formats\n",
    "set_matplotlib_formats('retina')\n",
    "\n",
    "scu = StatsChartingUtilities(s=s)"
   ]
  },
  {
   "cell_type": "code",
   "execution_count": 2,
   "id": "2f17ccc3-6906-42fe-bef1-6c8a16858d73",
   "metadata": {},
   "outputs": [],
   "source": [
    "\n",
    "import sys\n",
    "\n",
    "# Insert at 1, 0 is the script path (or '' in REPL)\n",
    "sys.path.insert(1, '../py')\n",
    "\n",
    "import numpy as np\n",
    "import pandas as pd\n",
    "import re\n",
    "from stats_scraping_utils import StatsScrapingUtilities\n",
    "from storage import Storage\n",
    "\n",
    "s = Storage()\n",
    "ssu = StatsScrapingUtilities(s=s)"
   ]
  },
  {
   "cell_type": "markdown",
   "id": "92ac13f7-2b46-4cc2-b5a2-2750ce0d0e0d",
   "metadata": {
    "tags": []
   },
   "source": [
    "\n",
    "## Build the Case Fatality Rate Dataset"
   ]
  },
  {
   "cell_type": "code",
   "execution_count": 3,
   "id": "4c370029-a245-4cff-8d6e-579ca09fb6be",
   "metadata": {},
   "outputs": [
    {
     "name": "stdout",
     "output_type": "stream",
     "text": [
      "The Case Fatality Rate data is from https://en.wikipedia.org/wiki/List_of_human_disease_case_fatality_rates.\n",
      "[(0, (70, 6))]\n",
      "['Disease', 'Type', 'Treatment[clarification needed]', 'CFR', 'Notes', 'Reference(s)']\n"
     ]
    },
    {
     "data": {
      "text/html": [
       "<div>\n",
       "<style scoped>\n",
       "    .dataframe tbody tr th:only-of-type {\n",
       "        vertical-align: middle;\n",
       "    }\n",
       "\n",
       "    .dataframe tbody tr th {\n",
       "        vertical-align: top;\n",
       "    }\n",
       "\n",
       "    .dataframe thead th {\n",
       "        text-align: right;\n",
       "    }\n",
       "</style>\n",
       "<table border=\"1\" class=\"dataframe\">\n",
       "  <thead>\n",
       "    <tr style=\"text-align: right;\">\n",
       "      <th></th>\n",
       "      <th>68</th>\n",
       "      <th>16</th>\n",
       "      <th>15</th>\n",
       "      <th>6</th>\n",
       "      <th>52</th>\n",
       "      <th>47</th>\n",
       "      <th>26</th>\n",
       "    </tr>\n",
       "  </thead>\n",
       "  <tbody>\n",
       "    <tr>\n",
       "      <th>Disease</th>\n",
       "      <td>Hand, foot and mouth disease, children &lt; 5 yea...</td>\n",
       "      <td>Ebola virus disease – specifically EBOV</td>\n",
       "      <td>Tularemia, pneumonic</td>\n",
       "      <td>Primary amoebic meningoencephalitis</td>\n",
       "      <td>Hepatitis A, adults &gt; 50 years old</td>\n",
       "      <td>Cholera, in Africa</td>\n",
       "      <td>Middle Eastern Respiratory Syndrome (MERS)</td>\n",
       "    </tr>\n",
       "    <tr>\n",
       "      <th>Type</th>\n",
       "      <td>Viral</td>\n",
       "      <td>Viral</td>\n",
       "      <td>Bacterial</td>\n",
       "      <td>Amoebic infection</td>\n",
       "      <td>Viral</td>\n",
       "      <td>Bacterial</td>\n",
       "      <td>Viral</td>\n",
       "    </tr>\n",
       "    <tr>\n",
       "      <th>Treatment[clarification needed]</th>\n",
       "      <td>NaN</td>\n",
       "      <td>Unvaccinated &amp; Untreated</td>\n",
       "      <td>Untreated</td>\n",
       "      <td>No cure</td>\n",
       "      <td>Unvaccinated</td>\n",
       "      <td>NaN</td>\n",
       "      <td>NaN</td>\n",
       "    </tr>\n",
       "    <tr>\n",
       "      <th>CFR</th>\n",
       "      <td>0.01%</td>\n",
       "      <td>[25–90]%</td>\n",
       "      <td>≤ 60%</td>\n",
       "      <td>[98–99]%</td>\n",
       "      <td>≈1.8%</td>\n",
       "      <td>≈[2–3]%</td>\n",
       "      <td>34%</td>\n",
       "    </tr>\n",
       "    <tr>\n",
       "      <th>Notes</th>\n",
       "      <td>NaN</td>\n",
       "      <td>Prognosis improved by early supportive treatme...</td>\n",
       "      <td>NaN</td>\n",
       "      <td>Amphotericin B has shown efficacy in the limit...</td>\n",
       "      <td>NaN</td>\n",
       "      <td>With proper treatment, may be less than 1%, wh...</td>\n",
       "      <td>Galidesivir has shown promise in treating Coro...</td>\n",
       "    </tr>\n",
       "    <tr>\n",
       "      <th>Reference(s)</th>\n",
       "      <td>[53]</td>\n",
       "      <td>[17][18]</td>\n",
       "      <td>[11]: 78</td>\n",
       "      <td>NaN</td>\n",
       "      <td>[9]: 278</td>\n",
       "      <td>[37][38][39][40][41]</td>\n",
       "      <td>[25]</td>\n",
       "    </tr>\n",
       "  </tbody>\n",
       "</table>\n",
       "</div>"
      ],
      "text/plain": [
       "                                                                                68  \\\n",
       "Disease                          Hand, foot and mouth disease, children < 5 yea...   \n",
       "Type                                                                         Viral   \n",
       "Treatment[clarification needed]                                                NaN   \n",
       "CFR                                                                          0.01%   \n",
       "Notes                                                                          NaN   \n",
       "Reference(s)                                                                  [53]   \n",
       "\n",
       "                                                                                16  \\\n",
       "Disease                                    Ebola virus disease – specifically EBOV   \n",
       "Type                                                                         Viral   \n",
       "Treatment[clarification needed]                           Unvaccinated & Untreated   \n",
       "CFR                                                                       [25–90]%   \n",
       "Notes                            Prognosis improved by early supportive treatme...   \n",
       "Reference(s)                                                              [17][18]   \n",
       "\n",
       "                                                   15  \\\n",
       "Disease                          Tularemia, pneumonic   \n",
       "Type                                        Bacterial   \n",
       "Treatment[clarification needed]             Untreated   \n",
       "CFR                                             ≤ 60%   \n",
       "Notes                                             NaN   \n",
       "Reference(s)                                 [11]: 78   \n",
       "\n",
       "                                                                                6   \\\n",
       "Disease                                        Primary amoebic meningoencephalitis   \n",
       "Type                                                             Amoebic infection   \n",
       "Treatment[clarification needed]                                            No cure   \n",
       "CFR                                                                       [98–99]%   \n",
       "Notes                            Amphotericin B has shown efficacy in the limit...   \n",
       "Reference(s)                                                                   NaN   \n",
       "\n",
       "                                                                 52  \\\n",
       "Disease                          Hepatitis A, adults > 50 years old   \n",
       "Type                                                          Viral   \n",
       "Treatment[clarification needed]                        Unvaccinated   \n",
       "CFR                                                           ≈1.8%   \n",
       "Notes                                                           NaN   \n",
       "Reference(s)                                               [9]: 278   \n",
       "\n",
       "                                                                                47  \\\n",
       "Disease                                                         Cholera, in Africa   \n",
       "Type                                                                     Bacterial   \n",
       "Treatment[clarification needed]                                                NaN   \n",
       "CFR                                                                        ≈[2–3]%   \n",
       "Notes                            With proper treatment, may be less than 1%, wh...   \n",
       "Reference(s)                                                  [37][38][39][40][41]   \n",
       "\n",
       "                                                                                26  \n",
       "Disease                                 Middle Eastern Respiratory Syndrome (MERS)  \n",
       "Type                                                                         Viral  \n",
       "Treatment[clarification needed]                                                NaN  \n",
       "CFR                                                                            34%  \n",
       "Notes                            Galidesivir has shown promise in treating Coro...  \n",
       "Reference(s)                                                                  [25]  "
      ]
     },
     "metadata": {},
     "output_type": "display_data"
    }
   ],
   "source": [
    "\n",
    "rv_explanation_str = 'Case Fatality Rate'\n",
    "url = 'https://en.wikipedia.org/wiki/List_of_human_disease_case_fatality_rates'\n",
    "print(f'The {rv_explanation_str} data is from {url}.')\n",
    "tables_list = ssu.get_page_tables(url)\n",
    "CFRs_df = tables_list[0].copy()\n",
    "print(CFRs_df.columns.tolist())\n",
    "display(CFRs_df.sample(7).T)"
   ]
  },
  {
   "cell_type": "code",
   "execution_count": 4,
   "id": "182862cd-a8a6-421d-9239-144c09636c6f",
   "metadata": {},
   "outputs": [
    {
     "data": {
      "text/html": [
       "<div>\n",
       "<style scoped>\n",
       "    .dataframe tbody tr th:only-of-type {\n",
       "        vertical-align: middle;\n",
       "    }\n",
       "\n",
       "    .dataframe tbody tr th {\n",
       "        vertical-align: top;\n",
       "    }\n",
       "\n",
       "    .dataframe thead th {\n",
       "        text-align: right;\n",
       "    }\n",
       "</style>\n",
       "<table border=\"1\" class=\"dataframe\">\n",
       "  <thead>\n",
       "    <tr style=\"text-align: right;\">\n",
       "      <th></th>\n",
       "      <th>44</th>\n",
       "      <th>35</th>\n",
       "      <th>53</th>\n",
       "      <th>66</th>\n",
       "      <th>2</th>\n",
       "      <th>39</th>\n",
       "      <th>9</th>\n",
       "    </tr>\n",
       "  </thead>\n",
       "  <tbody>\n",
       "    <tr>\n",
       "      <th>disease_name</th>\n",
       "      <td>Yellow fever</td>\n",
       "      <td>Leptospirosis</td>\n",
       "      <td>Coronavirus disease 2019 (COVID-19)</td>\n",
       "      <td>Influenza A, typical pandemics</td>\n",
       "      <td>Sleeping Sickness</td>\n",
       "      <td>Severe acute respiratory syndrome (SARS)</td>\n",
       "      <td>Anthrax, specifically the pulmonary form</td>\n",
       "    </tr>\n",
       "    <tr>\n",
       "      <th>disease_type</th>\n",
       "      <td>Viral</td>\n",
       "      <td>Bacterial</td>\n",
       "      <td>Viral</td>\n",
       "      <td>Viral</td>\n",
       "      <td>Parasitic</td>\n",
       "      <td>Viral</td>\n",
       "      <td>Bacterial</td>\n",
       "    </tr>\n",
       "    <tr>\n",
       "      <th>treatment_by</th>\n",
       "      <td>Unvaccinated</td>\n",
       "      <td>NaN</td>\n",
       "      <td>Unvaccinated &amp;Treated with unspecific treatments</td>\n",
       "      <td>NaN</td>\n",
       "      <td>Untreated</td>\n",
       "      <td>NaN</td>\n",
       "      <td>Unvaccinated &amp; Untreated</td>\n",
       "    </tr>\n",
       "    <tr>\n",
       "      <th>CFR</th>\n",
       "      <td>7.5%</td>\n",
       "      <td>&lt; [5–30]%</td>\n",
       "      <td>0.5-1%</td>\n",
       "      <td>&lt; 0.1%</td>\n",
       "      <td>≈100%</td>\n",
       "      <td>11%</td>\n",
       "      <td>&gt; 85%</td>\n",
       "    </tr>\n",
       "    <tr>\n",
       "      <th>disease_notes</th>\n",
       "      <td>NaN</td>\n",
       "      <td>NaN</td>\n",
       "      <td>Depends largely on the age group of the person...</td>\n",
       "      <td>NaN</td>\n",
       "      <td>NaN</td>\n",
       "      <td>Galidesivir has shown promise in treating Coro...</td>\n",
       "      <td>Early treatments lower the CFR to 45% as seen ...</td>\n",
       "    </tr>\n",
       "    <tr>\n",
       "      <th>references</th>\n",
       "      <td>[36]</td>\n",
       "      <td>[9]: 352</td>\n",
       "      <td>[46]</td>\n",
       "      <td>[42]</td>\n",
       "      <td>[4]</td>\n",
       "      <td>[31]</td>\n",
       "      <td>[11]: 88</td>\n",
       "    </tr>\n",
       "    <tr>\n",
       "      <th>CFR_low</th>\n",
       "      <td>7.5</td>\n",
       "      <td>5.0</td>\n",
       "      <td>0.5</td>\n",
       "      <td>0.1</td>\n",
       "      <td>100.0</td>\n",
       "      <td>11.0</td>\n",
       "      <td>85.0</td>\n",
       "    </tr>\n",
       "    <tr>\n",
       "      <th>CFR_high</th>\n",
       "      <td>7.5</td>\n",
       "      <td>30.0</td>\n",
       "      <td>1.0</td>\n",
       "      <td>0.1</td>\n",
       "      <td>100.0</td>\n",
       "      <td>11.0</td>\n",
       "      <td>85.0</td>\n",
       "    </tr>\n",
       "  </tbody>\n",
       "</table>\n",
       "</div>"
      ],
      "text/plain": [
       "                         44             35  \\\n",
       "disease_name   Yellow fever  Leptospirosis   \n",
       "disease_type          Viral      Bacterial   \n",
       "treatment_by   Unvaccinated            NaN   \n",
       "CFR                    7.5%      < [5–30]%   \n",
       "disease_notes           NaN            NaN   \n",
       "references             [36]       [9]: 352   \n",
       "CFR_low                 7.5            5.0   \n",
       "CFR_high                7.5           30.0   \n",
       "\n",
       "                                                              53  \\\n",
       "disease_name                 Coronavirus disease 2019 (COVID-19)   \n",
       "disease_type                                               Viral   \n",
       "treatment_by    Unvaccinated &Treated with unspecific treatments   \n",
       "CFR                                                       0.5-1%   \n",
       "disease_notes  Depends largely on the age group of the person...   \n",
       "references                                                  [46]   \n",
       "CFR_low                                                      0.5   \n",
       "CFR_high                                                     1.0   \n",
       "\n",
       "                                           66                 2   \\\n",
       "disease_name   Influenza A, typical pandemics  Sleeping Sickness   \n",
       "disease_type                            Viral          Parasitic   \n",
       "treatment_by                              NaN          Untreated   \n",
       "CFR                                    < 0.1%              ≈100%   \n",
       "disease_notes                             NaN                NaN   \n",
       "references                               [42]                [4]   \n",
       "CFR_low                                   0.1              100.0   \n",
       "CFR_high                                  0.1              100.0   \n",
       "\n",
       "                                                              39  \\\n",
       "disease_name            Severe acute respiratory syndrome (SARS)   \n",
       "disease_type                                               Viral   \n",
       "treatment_by                                                 NaN   \n",
       "CFR                                                          11%   \n",
       "disease_notes  Galidesivir has shown promise in treating Coro...   \n",
       "references                                                  [31]   \n",
       "CFR_low                                                     11.0   \n",
       "CFR_high                                                    11.0   \n",
       "\n",
       "                                                              9   \n",
       "disease_name            Anthrax, specifically the pulmonary form  \n",
       "disease_type                                           Bacterial  \n",
       "treatment_by                            Unvaccinated & Untreated  \n",
       "CFR                                                        > 85%  \n",
       "disease_notes  Early treatments lower the CFR to 45% as seen ...  \n",
       "references                                              [11]: 88  \n",
       "CFR_low                                                     85.0  \n",
       "CFR_high                                                    85.0  "
      ]
     },
     "metadata": {},
     "output_type": "display_data"
    }
   ],
   "source": [
    "\n",
    "# Cast and split columns\n",
    "CFRs_df.columns = ['disease_name', 'disease_type', 'treatment_by', 'CFR', 'disease_notes', 'references']\n",
    "dash_regex = re.compile('[–-]')\n",
    "for i, cn in enumerate(['CFR_low', 'CFR_high']):\n",
    "    CFRs_df[cn] = np.nan\n",
    "    mask_series = CFRs_df.CFR.map(lambda x: bool(dash_regex.search(str(x))))\n",
    "    CFRs_df.loc[~mask_series, cn] = CFRs_df[~mask_series].CFR.map(lambda x: re.sub(r'[^0-9\\.]+', '', str(x).split('%')[0]))\n",
    "    CFRs_df.loc[mask_series, cn] = CFRs_df[mask_series].CFR.map(lambda x: re.split(r'[^0-9\\.]+', dash_regex.split(str(x))[i], 0)[i-1])\n",
    "    CFRs_df[cn] = pd.to_numeric(CFRs_df[cn], errors='coerce', downcast='float')\n",
    "display(CFRs_df.sample(7).T)"
   ]
  },
  {
   "cell_type": "code",
   "execution_count": 5,
   "id": "4ebebc90-1d15-4b2f-b1fb-0db557065f27",
   "metadata": {},
   "outputs": [
    {
     "name": "stdout",
     "output_type": "stream",
     "text": [
      "Pickling to C:\\Users\\daveb\\OneDrive\\Documents\\GitHub\\covid19\\saves\\pkl\\CFRs_df.pkl\n"
     ]
    }
   ],
   "source": [
    "\n",
    "# Add Monkeypox\n",
    "if 'Monkeypox' not in CFRs_df.disease_name:\n",
    "    row_dict = {\n",
    "        'disease_name': 'Monkeypox',\n",
    "        'disease_type': 'Viral',\n",
    "        'treatment_by': 'Vaccinated',\n",
    "        'CFR': '3%',\n",
    "        'disease_notes': np.nan,\n",
    "        'references': np.nan,\n",
    "        'CFR_low': 1.0,\n",
    "        'CFR_high': 3.7\n",
    "    }\n",
    "    CFRs_df = CFRs_df.append(row_dict, ignore_index=True)\n",
    "    s.store_objects(CFRs_df=CFRs_df)"
   ]
  },
  {
   "cell_type": "code",
   "execution_count": 6,
   "id": "be06b0df-79bc-4eb3-8da1-db594117d767",
   "metadata": {},
   "outputs": [],
   "source": [
    "\n",
    "# Remove disease misspellings\n",
    "CFRs_df['short_disease_name'] = CFRs_df.disease_name.map(lambda x: ssu.disease_name_dict.get(x, x))"
   ]
  },
  {
   "cell_type": "code",
   "execution_count": 7,
   "id": "1b49fe98-7edd-4f51-84b5-5a87ff64f2cc",
   "metadata": {},
   "outputs": [
    {
     "data": {
      "text/plain": [
       "{'disease_name': 'Varicella (chickenpox), in newborns', 'disease_type': 'Viral', 'treatment_by': 'Untreated', 'CFR': '≈30%', 'disease_notes': 'Where the mothers develop the disease between 5 days prior to, or 2 days after delivery.', 'references': '[9]:\\u200a110', 'CFR_low': 3.0, 'CFR_high': 11.9, 'short_disease_name': 'Varicella'}"
      ]
     },
     "execution_count": 7,
     "metadata": {},
     "output_type": "execute_result"
    }
   ],
   "source": [
    "\n",
    "# https://academic.oup.com/jid/article/182/2/383/2190935\n",
    "# In 1990–1994, adults had a risk 25 times greater and\n",
    "# infants had a risk 4 times greater of dying from varicella\n",
    "# than did children 1–4 years old (table 4).\n",
    "mask_series = (CFRs_df.disease_name == 'Varicella (chickenpox), in newborns')\n",
    "CFRs_df.loc[mask_series, 'CFR_low'] = 3.0\n",
    "CFRs_df.loc[mask_series, 'CFR_high'] = 11.9\n",
    "CFRs_df[mask_series].to_dict('records')[0]"
   ]
  },
  {
   "cell_type": "code",
   "execution_count": 8,
   "id": "f2b55df1-2926-473f-8b6f-09507a62a165",
   "metadata": {},
   "outputs": [
    {
     "data": {
      "text/plain": [
       "{'disease_name': 'Varicella (chickenpox), adults', 'disease_type': 'Viral', 'treatment_by': 'Unvaccinated', 'CFR': '0.02%', 'disease_notes': nan, 'references': '[9]:\\u200a110', 'CFR_low': 15.8, 'CFR_high': 26.8, 'short_disease_name': 'Varicella'}"
      ]
     },
     "execution_count": 8,
     "metadata": {},
     "output_type": "execute_result"
    }
   ],
   "source": [
    "\n",
    "# https://academic.oup.com/jid/article/182/2/383/2190935\n",
    "# In 1990–1994, adults had a risk 25 times greater and\n",
    "# infants had a risk 4 times greater of dying from varicella\n",
    "# than did children 1–4 years old (table 4).\n",
    "mask_series = (CFRs_df.disease_name == 'Varicella (chickenpox), adults')\n",
    "CFRs_df.loc[mask_series, 'CFR_low'] = 15.8\n",
    "CFRs_df.loc[mask_series, 'CFR_high'] = 26.8\n",
    "CFRs_df[mask_series].to_dict('records')[0]"
   ]
  },
  {
   "cell_type": "code",
   "execution_count": 9,
   "id": "1583bfa1-c504-4105-ab8c-fc25af9b4730",
   "metadata": {},
   "outputs": [
    {
     "data": {
      "text/plain": [
       "{'disease_name': 'Varicella (chickenpox), children', 'disease_type': 'Viral', 'treatment_by': 'Unvaccinated', 'CFR': '0.001%', 'disease_notes': nan, 'references': '[9]:\\u200a110', 'CFR_low': 0.4, 'CFR_high': 1.3, 'short_disease_name': 'Varicella'}"
      ]
     },
     "execution_count": 9,
     "metadata": {},
     "output_type": "execute_result"
    }
   ],
   "source": [
    "\n",
    "# https://academic.oup.com/jid/article/182/2/383/2190935\n",
    "# In 1990–1994, adults had a risk 25 times greater and\n",
    "# infants had a risk 4 times greater of dying from varicella\n",
    "# than did children 1–4 years old (table 4).\n",
    "mask_series = (CFRs_df.disease_name == 'Varicella (chickenpox), children')\n",
    "CFRs_df.loc[mask_series, 'CFR_low'] = 0.4\n",
    "CFRs_df.loc[mask_series, 'CFR_high'] = 1.3\n",
    "CFRs_df[mask_series].to_dict('records')[0]"
   ]
  },
  {
   "cell_type": "code",
   "execution_count": 10,
   "id": "08b04ca4-ca6b-4d7d-bdc6-b6aee93ece51",
   "metadata": {},
   "outputs": [
    {
     "data": {
      "text/plain": [
       "{'disease_name': 'Pertussis (whooping cough), infants in developing countries', 'disease_type': 'Bacterial', 'treatment_by': 'Unvaccinated', 'CFR': '≈3.7%', 'disease_notes': nan, 'references': '[9]:\\u200a456', 'CFR_low': 0.2, 'CFR_high': 3.7, 'short_disease_name': 'Pertussis'}"
      ]
     },
     "execution_count": 10,
     "metadata": {},
     "output_type": "execute_result"
    }
   ],
   "source": [
    "\n",
    "# http://apps.who.int/iris/bitstream/handle/10665/69159/WHO_IVB_05.15.pdf;jsessionid=36AECC863764153C468684BC59955A8D?sequence=1\n",
    "# Age adjusted case fatality rates from the literature were\n",
    "# used and assigned to the mortality stratum; for children under 1 year of age CFR’s of\n",
    "# 3.7 were used in high incidence countries and 0.2 for lower incidence countries.\n",
    "mask_series = (CFRs_df.disease_name == 'Pertussis (whooping cough), infants in developing countries')\n",
    "CFRs_df.loc[mask_series, 'CFR_low'] = 0.2\n",
    "CFRs_df.loc[mask_series, 'CFR_high'] = 3.7\n",
    "CFRs_df[mask_series].to_dict('records')[0]"
   ]
  },
  {
   "cell_type": "code",
   "execution_count": 11,
   "id": "fdc496ee-02cd-41cf-8b5a-a8d16fb270ad",
   "metadata": {},
   "outputs": [
    {
     "data": {
      "text/plain": [
       "{'disease_name': 'Pertussis (whooping cough), children in developing countries', 'disease_type': 'Bacterial', 'treatment_by': 'Unvaccinated', 'CFR': '≈1%', 'disease_notes': 'For children 1–4 years old.', 'references': '[9]:\\u200a456', 'CFR_low': 0.5, 'CFR_high': 2.0, 'short_disease_name': 'Pertussis'}"
      ]
     },
     "execution_count": 11,
     "metadata": {},
     "output_type": "execute_result"
    }
   ],
   "source": [
    "\n",
    "# http://apps.who.int/iris/bitstream/handle/10665/69159/WHO_IVB_05.15.pdf;jsessionid=36AECC863764153C468684BC59955A8D?sequence=1\n",
    "# In low coverage countries, CFR in children 1–4 years of age was estimated at\n",
    "# 1% [Crowcroft 2001]. Population size needed to estimate a 0.5%–2% CFR in children\n",
    "# assuming an outbreak with an attack rate of 10% and that 15% of the\n",
    "# population is under 5 years of age.\n",
    "mask_series = (CFRs_df.disease_name == 'Pertussis (whooping cough), children in developing countries')\n",
    "CFRs_df.loc[mask_series, 'CFR_low'] = 0.5\n",
    "CFRs_df.loc[mask_series, 'CFR_high'] = 2\n",
    "CFRs_df[mask_series].to_dict('records')[0]"
   ]
  },
  {
   "cell_type": "code",
   "execution_count": 12,
   "id": "bf4ededc-bff6-4c96-bca5-f14050fa3ad3",
   "metadata": {},
   "outputs": [
    {
     "data": {
      "text/plain": [
       "{'disease_name': 'Tuberculosis, HIV Negative', 'disease_type': 'Bacterial', 'treatment_by': 'Vaccinated', 'CFR': '43%', 'disease_notes': 'Vaccines have been developed but have been frequently dismissed for having received controversial and improper testing on African populations.', 'references': '[23]', 'CFR_low': 1.17, 'CFR_high': 1.89, 'short_disease_name': 'Tuberculosis'}"
      ]
     },
     "execution_count": 12,
     "metadata": {},
     "output_type": "execute_result"
    }
   ],
   "source": [
    "\n",
    "# https://www.sciencedirect.com/science/article/pii/S1386653219301441\n",
    "# CFR was significantly higher in patients with HIV than in HIV-negative controls (OR 4.10, 95%CI: 2.63–6.27, I²: 93.7%).\n",
    "# The risk was significantly higher among children ≤5 years (OR 5.51, 95%CI 2.83–10.74)\n",
    "# compared to people aged >5 years (OR 1.48, 95%CI 1.17–1.89); p = 0.0002.\n",
    "mask_series = (CFRs_df.disease_name == 'Tuberculosis, HIV Negative')\n",
    "CFRs_df.loc[mask_series, 'CFR_low'] = 1.17\n",
    "CFRs_df.loc[mask_series, 'CFR_high'] = 1.89\n",
    "CFRs_df[mask_series].to_dict('records')[0]"
   ]
  },
  {
   "cell_type": "code",
   "execution_count": 13,
   "id": "90e1a971-e171-42b5-ba4d-7fe204ed849a",
   "metadata": {},
   "outputs": [
    {
     "data": {
      "text/plain": [
       "{'disease_name': 'AIDS/HIV infection', 'disease_type': 'Viral', 'treatment_by': 'Untreated', 'CFR': '90%', 'disease_notes': nan, 'references': '[9]:\\u200a1', 'CFR_low': 80.0, 'CFR_high': 90.0, 'short_disease_name': 'HIV'}"
      ]
     },
     "execution_count": 13,
     "metadata": {},
     "output_type": "execute_result"
    }
   ],
   "source": [
    "\n",
    "# https://www.news-medical.net/health/What-is-Case-Fatality-Rate-(CFR).aspx\n",
    "# HIV/AIDS – 80%\n",
    "mask_series = (CFRs_df.disease_name == 'AIDS/HIV infection')\n",
    "CFRs_df.loc[mask_series, 'CFR_low'] = 80\n",
    "CFRs_df[mask_series].to_dict('records')[0]"
   ]
  },
  {
   "cell_type": "code",
   "execution_count": 14,
   "id": "846d4e75-89f7-4a4f-abb2-dd8ef1a76f4f",
   "metadata": {},
   "outputs": [
    {
     "data": {
      "text/plain": [
       "{'disease_name': 'Severe acute respiratory syndrome (SARS)', 'disease_type': 'Viral', 'treatment_by': nan, 'CFR': '11%', 'disease_notes': 'Galidesivir has shown promise in treating Coronaviridae.', 'references': '[31]', 'CFR_low': 5.0, 'CFR_high': 19.0, 'short_disease_name': 'SARS'}"
      ]
     },
     "execution_count": 14,
     "metadata": {},
     "output_type": "execute_result"
    }
   ],
   "source": [
    "\n",
    "# https://www.cidrap.umn.edu/news-perspective/2003/05/estimates-sars-death-rates-revised-upward\n",
    "# One method the WHO used was to calculate the case-fatality ratio\n",
    "# using only the cases whose final outcome was known.\n",
    "# With this method, ratios ranged from 11% to 17% for Hong Kong,\n",
    "# 13% to 15% for Singapore, 15% to 19% for Canada, and 5% to 13% for China.\n",
    "mask_series = (CFRs_df.disease_name == 'Severe acute respiratory syndrome (SARS)')\n",
    "CFRs_df.loc[mask_series, 'CFR_low'] = 5\n",
    "CFRs_df.loc[mask_series, 'CFR_high'] = 19\n",
    "CFRs_df[mask_series].to_dict('records')[0]"
   ]
  },
  {
   "cell_type": "code",
   "execution_count": 15,
   "id": "cc8fea26-1486-4279-aa2d-a526cb1f00bf",
   "metadata": {},
   "outputs": [
    {
     "data": {
      "text/plain": [
       "{'disease_name': 'Hantavirus infection', 'disease_type': 'Viral', 'treatment_by': nan, 'CFR': '36%', 'disease_notes': 'Ribavirin may be a drug for HPS and HFRS but its effectiveness remains unknown, still, spontaneous recovery is possible with supportive treatment.', 'references': nan, 'CFR_low': 1.0, 'CFR_high': 2.0, 'short_disease_name': 'Hantavirus'}"
      ]
     },
     "execution_count": 15,
     "metadata": {},
     "output_type": "execute_result"
    }
   ],
   "source": [
    "\n",
    "# https://www.who.int/emergencies/disease-outbreak-news/item/20-february-2017-seoulvirus-usa-and-canada-en\n",
    "# The case fatality rate (CFR) among humans who develop HFRS due to Seoul virus ranges from 1-2%.\n",
    "mask_series = (CFRs_df.disease_name == 'Hantavirus infection')\n",
    "CFRs_df.loc[mask_series, 'CFR_low'] = 1\n",
    "CFRs_df.loc[mask_series, 'CFR_high'] = 2\n",
    "CFRs_df[mask_series].to_dict('records')[0]"
   ]
  },
  {
   "cell_type": "code",
   "execution_count": 16,
   "id": "6750c776-ee4f-4be6-95c4-5652ed8ceb9a",
   "metadata": {},
   "outputs": [
    {
     "data": {
      "text/plain": [
       "{'disease_name': 'Middle Eastern Respiratory Syndrome (MERS)', 'disease_type': 'Viral', 'treatment_by': nan, 'CFR': '34%', 'disease_notes': 'Galidesivir has shown promise in treating Coronaviridae', 'references': '[25]', 'CFR_low': 16.1, 'CFR_high': 35.1, 'short_disease_name': 'MERS'}"
      ]
     },
     "execution_count": 16,
     "metadata": {},
     "output_type": "execute_result"
    }
   ],
   "source": [
    "\n",
    "# https://idpjournal.biomedcentral.com/articles/10.1186/s40249-021-00853-0/tables/1\n",
    "# Number of deaths (CFR, %)\n",
    "mask_series = (CFRs_df.disease_name == 'Middle Eastern Respiratory Syndrome (MERS)')\n",
    "CFRs_df.loc[mask_series, 'CFR_low'] = 16.1\n",
    "CFRs_df.loc[mask_series, 'CFR_high'] = 35.1\n",
    "CFRs_df[mask_series].to_dict('records')[0]"
   ]
  },
  {
   "cell_type": "code",
   "execution_count": 17,
   "id": "7296f8ed-4047-497b-8296-a68143349004",
   "metadata": {},
   "outputs": [
    {
     "data": {
      "text/plain": [
       "{'disease_name': 'Hong Kong (1968–69) flu', 'disease_type': 'Viral', 'treatment_by': nan, 'CFR': '≈0.1%', 'disease_notes': nan, 'references': '[52]', 'CFR_low': 0.10000000149011612, 'CFR_high': 0.2, 'short_disease_name': '1968 Flu'}"
      ]
     },
     "execution_count": 17,
     "metadata": {},
     "output_type": "execute_result"
    }
   ],
   "source": [
    "\n",
    "# https://en.wikipedia.org/wiki/Hong_Kong_flu\n",
    "# The World Health Organization estimated the case fatality rate of Hong Kong flu to be lower than 0.2%.\n",
    "mask_series = (CFRs_df.disease_name == 'Hong Kong (1968–69) flu')\n",
    "CFRs_df.loc[mask_series, 'CFR_high'] = 0.2\n",
    "CFRs_df[mask_series].to_dict('records')[0]"
   ]
  },
  {
   "cell_type": "code",
   "execution_count": 18,
   "id": "239ba62c-45e0-494c-b65b-b756013e8e8a",
   "metadata": {},
   "outputs": [
    {
     "data": {
      "text/plain": [
       "{'disease_name': 'Asian (1956–58) flu', 'disease_type': 'Viral', 'treatment_by': nan, 'CFR': '≈0.1%', 'disease_notes': nan, 'references': '[52]', 'CFR_low': 0.01, 'CFR_high': 0.33, 'short_disease_name': '1956 Flu'}"
      ]
     },
     "execution_count": 18,
     "metadata": {},
     "output_type": "execute_result"
    }
   ],
   "source": [
    "\n",
    "# https://en.wikipedia.org/wiki/1957%E2%80%931958_influenza_pandemic\n",
    "# On the symposium of Asian influenza in 1958, a range of CFR from 0.01% to 0.33% was provided, most frequently in between 0.02% and 0.05%.\n",
    "mask_series = (CFRs_df.disease_name == 'Asian (1956–58) flu')\n",
    "CFRs_df.loc[mask_series, 'CFR_low'] = 0.01\n",
    "CFRs_df.loc[mask_series, 'CFR_high'] = 0.33\n",
    "CFRs_df[mask_series].to_dict('records')[0]"
   ]
  },
  {
   "cell_type": "code",
   "execution_count": 19,
   "id": "d1473ede-6091-44a9-85de-0a578aac8863",
   "metadata": {},
   "outputs": [
    {
     "data": {
      "text/plain": [
       "{'disease_name': 'Influenza A virus subtype H5N1', 'disease_type': 'Viral', 'treatment_by': nan, 'CFR': '≈60%', 'disease_notes': nan, 'references': '[15]', 'CFR_low': 10.3, 'CFR_high': 90.5, 'short_disease_name': 'H5N1 Flu'}"
      ]
     },
     "execution_count": 19,
     "metadata": {},
     "output_type": "execute_result"
    }
   ],
   "source": [
    "\n",
    "# https://en.wikipedia.org/wiki/Influenza_A_virus_subtype_H5N1\n",
    "# Confirmed human cases and mortality rate of avian influenza (H5N1) – 2003–2021 wikitable\n",
    "mask_series = (CFRs_df.disease_name == 'Influenza A virus subtype H5N1')\n",
    "CFRs_df.loc[mask_series, 'CFR_low'] = 10.3\n",
    "CFRs_df.loc[mask_series, 'CFR_high'] = 90.5\n",
    "CFRs_df[mask_series].to_dict('records')[0]"
   ]
  },
  {
   "cell_type": "raw",
   "id": "2a2361bc-beb1-4c9e-a8c7-7a1de20db218",
   "metadata": {},
   "source": [
    "\n",
    "# \n",
    "# \n",
    "mask_series = (CFRs_df.disease_name == '')\n",
    "CFRs_df.loc[mask_series, 'CFR_low'] = \n",
    "CFRs_df.loc[mask_series, 'CFR_high'] = \n",
    "CFRs_df[mask_series].to_dict('records')[0]"
   ]
  },
  {
   "cell_type": "code",
   "execution_count": 20,
   "id": "7b6e5a71-547b-402c-9fe9-78accaf3f7d8",
   "metadata": {},
   "outputs": [
    {
     "name": "stdout",
     "output_type": "stream",
     "text": [
      "Pickling to C:\\Users\\daveb\\OneDrive\\Documents\\GitHub\\covid19\\saves\\pkl\\CFRs_df.pkl\n"
     ]
    }
   ],
   "source": [
    "\n",
    "s.store_objects(CFRs_df=CFRs_df)"
   ]
  },
  {
   "cell_type": "markdown",
   "id": "e9cb9d4d-342b-448a-8f87-8d93abfe7fb3",
   "metadata": {},
   "source": [
    "\n",
    "----"
   ]
  },
  {
   "cell_type": "code",
   "execution_count": 21,
   "id": "38d36e40-e579-43f6-9015-e22877be33da",
   "metadata": {},
   "outputs": [],
   "source": [
    "\n",
    "import sys\n",
    "sys.path.insert(1, '../py')\n",
    "from storage import Storage\n",
    "s = Storage()\n",
    "R0s_df = s.load_object('R0s_df')\n",
    "CFRs_df = s.load_object('CFRs_df')\n",
    "merged_df = R0s_df.merge(CFRs_df, on='short_disease_name', suffixes=['_R0', '_CFR']).set_index('short_disease_name', drop=True)\n",
    "ev_low_column_name = 'R0_low'\n",
    "ev_high_column_name = 'R0_high'\n",
    "rv_low_column_name = 'CFR_low'\n",
    "rv_high_column_name = 'CFR_high'\n",
    "df = merged_df.reset_index(drop=False).set_index('disease_name_CFR', drop=True)\n",
    "columns_list = [ev_low_column_name, ev_high_column_name, rv_low_column_name, rv_high_column_name]\n",
    "df = df[columns_list].dropna()\n",
    "deficient_cfrs_list = []\n",
    "deficient_r0s_list = []\n",
    "for label, R0_low, CFR_low, R0_high, CFR_high, in zip(df.index, df['R0_low'], df['CFR_low'], df['R0_high'], df['CFR_high']):\n",
    "    rect_width = R0_high - R0_low\n",
    "    if rect_width == 0:\n",
    "        deficient_r0s_list.append(label)\n",
    "    rect_height = CFR_high - CFR_low\n",
    "    if rect_height == 0:\n",
    "        deficient_cfrs_list.append(label)\n",
    "from urllib.parse import quote_plus\n",
    "for deficient_cfr in deficient_cfrs_list:\n",
    "    url_str = f'{deficient_cfr.lower()} cfr range'\n",
    "    url_str = f'https://www.google.com/search?client=firefox-b-1-d&q={quote_plus(url_str)}'\n",
    "    print(url_str)\n",
    "    break"
   ]
  },
  {
   "cell_type": "code",
   "execution_count": 22,
   "id": "5fb6a341-a62a-4618-a4fa-7514dbe8596a",
   "metadata": {},
   "outputs": [
    {
     "data": {
      "text/plain": [
       "['Transmissible spongiform encephalopathies', 'Rabies', 'Sleeping Sickness', 'Visceral leishmaniasis', 'Granulomatous amoebic encephalitis', 'AIDS/HIV infection', 'Primary amoebic meningoencephalitis', 'Glanders, septicemic', 'Smallpox Variola major – specifically the malignant (flat) or hemorrhagic type', 'Anthrax, specifically the pulmonary form', 'Macanine alphaherpesvirus 1', 'Aspergillosis, invasive pulmonary form', 'Smallpox, Variola major – in pregnant women', 'Influenza A virus subtype H5N1', 'Mucormycosis (Black fungus)', 'Tularemia, pneumonic', 'Ebola virus disease – specifically EBOV', 'Marburg virus disease – all outbreaks combined', 'Cryptococcal meningitis', 'Anthrax, gastrointestinal, intestinal type', 'Plague, pneumonic', 'Tetanus, Generalized', 'Tuberculosis, HIV Negative', 'Plague, septicemic', 'Baylisascariasis', 'Hantavirus infection', 'Middle Eastern Respiratory Syndrome (MERS)', 'Eastern equine encephalitis virus', 'Bubonic plague', 'Anthrax, gastrointestinal, oropharyngeal type', 'Smallpox, Variola major', 'Varicella (chickenpox), in newborns', 'Dengue haemorrhagic fever (DHF)', 'Hantavirus pulmonary syndrome (HPS)', 'Tularemia, typhoidal', 'Leptospirosis', 'Meningococcal disease', 'Typhoid fever', 'Legionellosis', 'Severe acute respiratory syndrome (SARS)', 'Intestinal capillariasis', 'Visceral leishmaniasis', 'Botulism', 'Diphtheria, respiratory', 'Yellow fever', 'Pertussis (whooping cough), infants in developing countries', 'Smallpox, Variola major', 'Cholera, in Africa', '1918 (Spanish) flu', 'Angiostrongyliasis', 'Measles (rubeola), in developing countries', 'Brucellosis', 'Hepatitis A, adults > 50 years old', 'Coronavirus disease 2019 (COVID-19)', 'Lassa fever', 'Mumps encephalitis', 'Pertussis (whooping cough), children in developing countries', 'Smallpox, Variola minor', 'Venezuelan Equine Encephalitis (VEE)', 'Anthrax, cutaneous', 'Seasonal Influenza, Worldwide', 'Malaria', 'Hepatitis A', 'Polio', 'Asian (1956–58) flu', 'Hong Kong (1968–69) flu', 'Influenza A, typical pandemics', 'Varicella (chickenpox), adults', 'Hand, foot and mouth disease, children < 5 years old', 'Varicella (chickenpox), children', 'Monkeypox']"
      ]
     },
     "execution_count": 22,
     "metadata": {},
     "output_type": "execute_result"
    }
   ],
   "source": [
    "\n",
    "CFRs_df.disease_name.tolist()"
   ]
  },
  {
   "cell_type": "code",
   "execution_count": 23,
   "id": "7e60f33f-eef4-4eb9-bb58-b4c6efc7793b",
   "metadata": {},
   "outputs": [
    {
     "data": {
      "text/html": [
       "<div>\n",
       "<style scoped>\n",
       "    .dataframe tbody tr th:only-of-type {\n",
       "        vertical-align: middle;\n",
       "    }\n",
       "\n",
       "    .dataframe tbody tr th {\n",
       "        vertical-align: top;\n",
       "    }\n",
       "\n",
       "    .dataframe thead th {\n",
       "        text-align: right;\n",
       "    }\n",
       "</style>\n",
       "<table border=\"1\" class=\"dataframe\">\n",
       "  <thead>\n",
       "    <tr style=\"text-align: right;\">\n",
       "      <th></th>\n",
       "      <th>disease_name</th>\n",
       "      <th>CFR</th>\n",
       "      <th>CFR_low</th>\n",
       "      <th>CFR_high</th>\n",
       "    </tr>\n",
       "  </thead>\n",
       "  <tbody>\n",
       "    <tr>\n",
       "      <th>13</th>\n",
       "      <td>Influenza A virus subtype H5N1</td>\n",
       "      <td>≈60%</td>\n",
       "      <td>10.3</td>\n",
       "      <td>90.5</td>\n",
       "    </tr>\n",
       "  </tbody>\n",
       "</table>\n",
       "</div>"
      ],
      "text/plain": [
       "                      disease_name   CFR  CFR_low  CFR_high\n",
       "13  Influenza A virus subtype H5N1  ≈60%     10.3      90.5"
      ]
     },
     "execution_count": 23,
     "metadata": {},
     "output_type": "execute_result"
    }
   ],
   "source": [
    "\n",
    "mask_series = CFRs_df.disease_name.map(lambda x: 'h5n1' in x.lower())\n",
    "columns_list = ['disease_name', 'CFR', 'CFR_low', 'CFR_high']\n",
    "CFRs_df[mask_series][columns_list]"
   ]
  },
  {
   "cell_type": "raw",
   "id": "36378c32-6a54-478f-9d4f-283e972d02ee",
   "metadata": {},
   "source": []
  }
 ],
 "metadata": {
  "kernelspec": {
   "display_name": "Python 3 (ipykernel)",
   "language": "python",
   "name": "python3"
  },
  "language_info": {
   "codemirror_mode": {
    "name": "ipython",
    "version": 3
   },
   "file_extension": ".py",
   "mimetype": "text/x-python",
   "name": "python",
   "nbconvert_exporter": "python",
   "pygments_lexer": "ipython3",
   "version": "3.9.7"
  }
 },
 "nbformat": 4,
 "nbformat_minor": 5
}
