{
 "cells": [
  {
   "cell_type": "code",
   "execution_count": 1,
   "metadata": {},
   "outputs": [
    {
     "name": "stdout",
     "output_type": "stream",
     "text": [
      "Pretty printing has been turned OFF\n",
      "C:\\Users\\dev\\Documents\\repositories\\covid19\\ipynb\\OS Path Navigation.ipynb\n",
      "['attempt_to_pickle', 'data_csv_folder', 'data_folder', 'encoding_type', 'load_csv', 'load_dataframes', 'load_object', 'save_dataframes', 'saves_csv_folder', 'saves_folder', 'saves_pickle_folder', 'store_objects']\n"
     ]
    },
    {
     "data": {
      "text/plain": [
       "['Config', 'In', 'Out', 'RandomForestClassifier', 'SequenceMatcher', 'Storage', '_', '__', '___', '__builtin__', '__builtins__', '__doc__', '__loader__', '__name__', '__nonzero__', '__package__', '__spec__', '_dh', '_i', '_i1', '_ih', '_ii', '_iii', '_oh', 'check_4_doubles', 'check_for_typos', 'conjunctify_list', 'copyfile', 'csv', 'encoding', 'exit', 'get_classifier', 'get_data_structs_dataframe', 'get_datastructure_prediction', 'get_dir_tree', 'get_git_lfs_track_commands', 'get_importances', 'get_input_sample', 'get_ipython', 'get_module_version', 'get_modules_dataframe', 'get_notebook_path', 'get_specific_gitignore_files', 'get_struct_name', 'humanize_bytes', 'ipykernel', 'json', 'jupyter_config_dir', 'notebook_path', 'notebookapp', 'np', 'os', 'pd', 'pickle', 'preprocess_data', 'print_all_files_ending_starting_with', 'print_all_files_ending_with', 'print_all_files_starting_with', 'quit', 're', 'remove_empty_folders', 's', 'similar', 'subprocess', 'sys', 'time', 'urllib']"
      ]
     },
     "execution_count": 1,
     "metadata": {},
     "output_type": "execute_result"
    }
   ],
   "source": [
    "\n",
    "%run ../../notebooks/load_magic/storage.py\n",
    "%run ../../notebooks/load_magic/paths.py\n",
    "%run ../../notebooks/load_magic/lists.py\n",
    "%run ../../notebooks/load_magic/environment.py\n",
    "%pprint\n",
    "notebook_path = get_notebook_path()\n",
    "print(notebook_path)\n",
    "s = Storage()\n",
    "print([fn for fn in dir(s) if not fn.startswith('_')])\n",
    "dir()"
   ]
  },
  {
   "cell_type": "code",
   "execution_count": 2,
   "metadata": {},
   "outputs": [
    {
     "name": "stdout",
     "output_type": "stream",
     "text": [
      "\"C:\\CocosCreator\\resources\\cocos2d-x\\external\\mac\\libs\\libcurl.a\"\n",
      "\"C:\\CocosCreator\\resources\\cocos2d-x\\external\\win32\\libs\\libcurl.dll\"\n",
      "\"C:\\CocosCreator\\resources\\cocos2d-x\\external\\win32\\libs\\libcurl.lib\"\n",
      "\"C:\\CocosCreator\\resources\\cocos2d-x\\prebuilt\\win32\\libcurl.dll\"\n",
      "\"C:\\CocosCreator\\resources\\cocos2d-x\\prebuilt\\win32\\libcurl.lib\"\n",
      "\"C:\\CocosCreator\\resources\\cocos2d-x\\prebuilt\\win32\\libcurl_imp.lib\"\n",
      "\"C:\\CocosCreator\\resources\\cocos2d-x\\simulator\\win32\\libcurl.dll\"\n",
      "\"C:\\Program Files\\GIMP 2\\32\\bin\\libcurl-4.dll\"\n",
      "\"C:\\Program Files\\GIMP 2\\bin\\libcurl-4.dll\"\n",
      "\"C:\\Program Files\\Git\\mingw64\\bin\\libcurl-4.dll\"\n",
      "\"C:\\Program Files\\Git\\mingw64\\libexec\\git-core\\libcurl-4.dll\"\n",
      "\"C:\\Program Files\\Inkscape\\libcurl-4.dll\"\n",
      "\"C:\\Program Files\\Lightworks\\libcurl.dll\"\n",
      "\"C:\\Program Files\\MediaInfo\\LIBCURL.DLL\"\n",
      "\"C:\\Program Files\\Notepad++\\libcurl.dll\"\n",
      "\"C:\\Program Files\\Notepad++\\updater\\libcurl.dll\"\n",
      "\"C:\\Program Files\\obs-studio\\bin\\64bit\\libcurl.dll\"\n",
      "\"C:\\Program Files\\R\\R-3.5.0\\library\\base\\html\\libcurlVersion.html\"\n",
      "\"C:\\Program Files\\R\\R-3.5.0\\tests\\libcurl.R\"\n",
      "\"C:\\Program Files\\WindowsApps\\king.com.BubbleWitch3Saga_5.6.3.0_x86__kgqvnymyfvs32\\libcurl.dll\"\n",
      "\"C:\\Program Files\\WindowsApps\\king.com.BubbleWitch3Saga_6.13.6.0_x86__kgqvnymyfvs32\\libcurl.dll\"\n",
      "\"C:\\Program Files\\WindowsApps\\king.com.CandyCrushSaga_1.1800.1.0_x86__kgqvnymyfvs32\\libcurl.dll\"\n",
      "\"C:\\Program Files\\WindowsApps\\king.com.CandyCrushSaga_1.1890.2.0_x86__kgqvnymyfvs32\\libcurl.dll\"\n",
      "\"C:\\Program Files\\WindowsApps\\king.com.CandyCrushSodaSaga_1.142.300.0_x86__kgqvnymyfvs32\\libcurl.dll\"\n",
      "\"C:\\Program Files\\WindowsApps\\king.com.CandyCrushSodaSaga_1.180.400.0_x86__kgqvnymyfvs32\\libcurl.dll\"\n",
      "\"C:\\Program Files (x86)\\Gow\\bin\\libcurl.dll\"\n",
      "\"C:\\Program Files (x86)\\Microsoft Office\\root\\Office16\\ODBC Drivers\\Salesforce\\lib\\LibCurl32.DllA\\libcurl.dll\"\n",
      "\"C:\\Program Files (x86)\\Microsoft Office\\root\\Office16\\ODBC Drivers\\Salesforce\\lib\\LibCurl32.DllA\\libcurl32.dlla.manifest\"\n",
      "\"C:\\Program Files (x86)\\Microsoft Visual Studio\\2017\\Community\\Common7\\IDE\\CommonExtensions\\Microsoft\\TeamFoundation\\Team Explorer\\Git\\mingw32\\bin\\libcurl-4.dll\"\n",
      "\"C:\\Program Files (x86)\\Microsoft Visual Studio\\2019\\Community\\Common7\\IDE\\CommonExtensions\\Microsoft\\TeamFoundation\\Team Explorer\\Git\\mingw32\\bin\\libcurl-4.dll\"\n",
      "\"C:\\Program Files (x86)\\Steam\\steamapps\\common\\Age2HD\\libcurl-ttv.dll\"\n",
      "\"C:\\Users\\Dave Babbitt\\Anaconda3\\Library\\bin\\libcurl.dll\"\n",
      "\"C:\\Users\\Dave Babbitt\\Anaconda3\\Library\\lib\\libcurl.exp\"\n",
      "\"C:\\Users\\Dave Babbitt\\Anaconda3\\Library\\lib\\libcurl.lib\"\n",
      "\"C:\\Users\\Dave Babbitt\\Anaconda3\\Library\\mingw-w64\\bin\\libcurl-4.dll\"\n",
      "\"C:\\Users\\Dave Babbitt\\Anaconda3\\Library\\mingw-w64\\lib\\libcurl.a\"\n",
      "\"C:\\Users\\Dave Babbitt\\Anaconda3\\Library\\mingw-w64\\lib\\libcurl.dll.a\"\n",
      "\"C:\\Users\\Dave Babbitt\\Anaconda3\\Library\\mingw-w64\\lib\\pkgconfig\\libcurl.pc\"\n",
      "\"C:\\Users\\Dave Babbitt\\Anaconda3\\Library\\mingw-w64\\share\\aclocal\\libcurl.m4\"\n",
      "\"C:\\Users\\Dave Babbitt\\Anaconda3\\Library\\mingw-w64\\share\\man\\man3\\libcurl-easy.3.gz\"\n",
      "\"C:\\Users\\Dave Babbitt\\Anaconda3\\Library\\mingw-w64\\share\\man\\man3\\libcurl-errors.3.gz\"\n",
      "\"C:\\Users\\Dave Babbitt\\Anaconda3\\Library\\mingw-w64\\share\\man\\man3\\libcurl-multi.3.gz\"\n",
      "\"C:\\Users\\Dave Babbitt\\Anaconda3\\Library\\mingw-w64\\share\\man\\man3\\libcurl-share.3.gz\"\n",
      "\"C:\\Users\\Dave Babbitt\\Anaconda3\\Library\\mingw-w64\\share\\man\\man3\\libcurl-symbols.3.gz\"\n",
      "\"C:\\Users\\Dave Babbitt\\Anaconda3\\Library\\mingw-w64\\share\\man\\man3\\libcurl-thread.3.gz\"\n",
      "\"C:\\Users\\Dave Babbitt\\Anaconda3\\Library\\mingw-w64\\share\\man\\man3\\libcurl-tutorial.3.gz\"\n",
      "\"C:\\Users\\Dave Babbitt\\Anaconda3\\Library\\mingw-w64\\share\\man\\man3\\libcurl.3.gz\"\n",
      "\"C:\\Users\\Dave Babbitt\\Anaconda3\\pkgs\\curl-7.49.1-vc14_2\\Library\\bin\\libcurl.dll\"\n",
      "\"C:\\Users\\Dave Babbitt\\Anaconda3\\pkgs\\curl-7.49.1-vc14_2\\Library\\lib\\libcurl.exp\"\n",
      "\"C:\\Users\\Dave Babbitt\\Anaconda3\\pkgs\\curl-7.49.1-vc14_2\\Library\\lib\\libcurl.lib\"\n",
      "\"C:\\Users\\Dave Babbitt\\Anaconda3\\pkgs\\m2w64-curl-7.48.0-2\\Library\\mingw-w64\\bin\\libcurl-4.dll\"\n",
      "\"C:\\Users\\Dave Babbitt\\Anaconda3\\pkgs\\m2w64-curl-7.48.0-2\\Library\\mingw-w64\\lib\\libcurl.a\"\n",
      "\"C:\\Users\\Dave Babbitt\\Anaconda3\\pkgs\\m2w64-curl-7.48.0-2\\Library\\mingw-w64\\lib\\libcurl.dll.a\"\n",
      "\"C:\\Users\\Dave Babbitt\\Anaconda3\\pkgs\\m2w64-curl-7.48.0-2\\Library\\mingw-w64\\lib\\pkgconfig\\libcurl.pc\"\n",
      "\"C:\\Users\\Dave Babbitt\\Anaconda3\\pkgs\\m2w64-curl-7.48.0-2\\Library\\mingw-w64\\share\\aclocal\\libcurl.m4\"\n",
      "\"C:\\Users\\Dave Babbitt\\Anaconda3\\pkgs\\m2w64-curl-7.48.0-2\\Library\\mingw-w64\\share\\man\\man3\\libcurl-easy.3.gz\"\n",
      "\"C:\\Users\\Dave Babbitt\\Anaconda3\\pkgs\\m2w64-curl-7.48.0-2\\Library\\mingw-w64\\share\\man\\man3\\libcurl-errors.3.gz\"\n",
      "\"C:\\Users\\Dave Babbitt\\Anaconda3\\pkgs\\m2w64-curl-7.48.0-2\\Library\\mingw-w64\\share\\man\\man3\\libcurl-multi.3.gz\"\n",
      "\"C:\\Users\\Dave Babbitt\\Anaconda3\\pkgs\\m2w64-curl-7.48.0-2\\Library\\mingw-w64\\share\\man\\man3\\libcurl-share.3.gz\"\n",
      "\"C:\\Users\\Dave Babbitt\\Anaconda3\\pkgs\\m2w64-curl-7.48.0-2\\Library\\mingw-w64\\share\\man\\man3\\libcurl-symbols.3.gz\"\n",
      "\"C:\\Users\\Dave Babbitt\\Anaconda3\\pkgs\\m2w64-curl-7.48.0-2\\Library\\mingw-w64\\share\\man\\man3\\libcurl-thread.3.gz\"\n",
      "\"C:\\Users\\Dave Babbitt\\Anaconda3\\pkgs\\m2w64-curl-7.48.0-2\\Library\\mingw-w64\\share\\man\\man3\\libcurl-tutorial.3.gz\"\n",
      "\"C:\\Users\\Dave Babbitt\\Anaconda3\\pkgs\\m2w64-curl-7.48.0-2\\Library\\mingw-w64\\share\\man\\man3\\libcurl.3.gz\"\n",
      "\"C:\\Users\\Dave Babbitt\\Anaconda3\\pkgs\\r-base-3.3.2-0\\R\\library\\base\\html\\libcurlVersion.html\"\n",
      "\"C:\\Users\\Dave Babbitt\\Anaconda3\\pkgs\\r-base-3.3.2-0\\R\\tests\\libcurl.R\"\n",
      "\"C:\\Users\\Dave Babbitt\\Anaconda3\\R\\library\\base\\html\\libcurlVersion.html\"\n",
      "\"C:\\Users\\Dave Babbitt\\Anaconda3\\R\\tests\\libcurl.R\"\n",
      "\"C:\\Users\\dev\\anaconda3\\conda-meta\\libcurl-7.71.1-h4b64cdc_8.json\"\n",
      "\"C:\\Users\\dev\\anaconda3\\envs\\covid19\\conda-meta\\libcurl-7.71.1-h4b64cdc_8.json\"\n",
      "\"C:\\Users\\dev\\anaconda3\\envs\\covid19\\Library\\bin\\libcurl.dll\"\n",
      "\"C:\\Users\\dev\\anaconda3\\envs\\covid19\\Library\\lib\\libcurl.exp\"\n",
      "\"C:\\Users\\dev\\anaconda3\\envs\\covid19\\Library\\lib\\libcurl.lib\"\n",
      "\"C:\\Users\\dev\\anaconda3\\envs\\tf\\conda-meta\\libcurl-7.71.1-h4b64cdc_8.json\"\n",
      "\"C:\\Users\\dev\\anaconda3\\envs\\tf\\Library\\bin\\libcurl.dll\"\n",
      "\"C:\\Users\\dev\\anaconda3\\envs\\tf\\Library\\lib\\libcurl.exp\"\n",
      "\"C:\\Users\\dev\\anaconda3\\envs\\tf\\Library\\lib\\libcurl.lib\"\n",
      "\"C:\\Users\\dev\\anaconda3\\envs\\x\\conda-meta\\libcurl-7.71.1-h4b64cdc_8.json\"\n",
      "\"C:\\Users\\dev\\anaconda3\\envs\\x\\Library\\bin\\libcurl.dll\"\n",
      "\"C:\\Users\\dev\\anaconda3\\envs\\x\\Library\\lib\\libcurl.exp\"\n",
      "\"C:\\Users\\dev\\anaconda3\\envs\\x\\Library\\lib\\libcurl.lib\"\n",
      "\"C:\\Users\\dev\\anaconda3\\Library\\bin\\libcurl.dll\"\n",
      "\"C:\\Users\\dev\\anaconda3\\Library\\lib\\libcurl.exp\"\n",
      "\"C:\\Users\\dev\\anaconda3\\Library\\lib\\libcurl.lib\"\n",
      "\"C:\\Users\\dev\\anaconda3\\pkgs\\libcurl-7.68.0-h2a8f88b_0.conda\"\n",
      "\"C:\\Users\\dev\\anaconda3\\pkgs\\libcurl-7.71.1-h4b64cdc_8.tar.bz2\"\n",
      "\"C:\\Users\\dev\\anaconda3\\pkgs\\libcurl-7.68.0-h2a8f88b_0\\Library\\bin\\libcurl.dll\"\n",
      "\"C:\\Users\\dev\\anaconda3\\pkgs\\libcurl-7.68.0-h2a8f88b_0\\Library\\lib\\libcurl.exp\"\n",
      "\"C:\\Users\\dev\\anaconda3\\pkgs\\libcurl-7.68.0-h2a8f88b_0\\Library\\lib\\libcurl.lib\"\n",
      "\"C:\\Users\\dev\\anaconda3\\pkgs\\libcurl-7.71.1-h4b64cdc_8\\Library\\bin\\libcurl.dll\"\n",
      "\"C:\\Users\\dev\\anaconda3\\pkgs\\libcurl-7.71.1-h4b64cdc_8\\Library\\lib\\libcurl.exp\"\n",
      "\"C:\\Users\\dev\\anaconda3\\pkgs\\libcurl-7.71.1-h4b64cdc_8\\Library\\lib\\libcurl.lib\"\n",
      "\"C:\\Users\\dev\\AppData\\Local\\GitHubDesktop\\app-2.5.6\\resources\\app\\git\\mingw64\\bin\\libcurl-4.dll\"\n",
      "\"C:\\Users\\dev\\AppData\\Local\\GitHubDesktop\\app-2.5.7\\resources\\app\\git\\mingw64\\bin\\libcurl-4.dll\"\n",
      "\"C:\\Users\\dev\\AppData\\Local\\SquirrelTemp\\tempa\\lib\\net45\\resources\\app\\git\\mingw64\\bin\\libcurl-4.dll.diff\"\n",
      "\"C:\\Users\\dev\\AppData\\Local\\SquirrelTemp\\tempa\\lib\\net45\\resources\\app\\git\\mingw64\\bin\\libcurl-4.dll.shasum\"\n",
      "\"C:\\Users\\dev\\AppData\\Local\\SquirrelTemp\\tempb\\lib\\net45\\resources\\app\\git\\mingw64\\bin\\libcurl-4.dll\"\n"
     ]
    }
   ],
   "source": [
    "\n",
    "for root_dir in ['C:\\\\', 'D:\\\\']:\n",
    "    for sub_directory, directories_list, files_list in os.walk(root_dir):\n",
    "        for file_name in files_list:\n",
    "            if 'libcurl' in file_name.lower():\n",
    "                file_path = os.path.join(sub_directory, file_name)\n",
    "                print('\"{}\"'.format(file_path))"
   ]
  },
  {
   "cell_type": "code",
   "execution_count": 2,
   "metadata": {},
   "outputs": [
    {
     "name": "stdout",
     "output_type": "stream",
     "text": [
      "Config\t RandomForestClassifier\t SequenceMatcher\t Storage\t check_4_doubles\t check_for_typos\t conjunctify_list\t copyfile\t csv\t \n",
      "encoding\t get_classifier\t get_data_structs_dataframe\t get_datastructure_prediction\t get_dir_tree\t get_git_lfs_track_commands\t get_importances\t get_input_sample\t get_module_version\t \n",
      "get_notebook_path\t get_specific_gitignore_files\t get_struct_name\t gi\t humanize_bytes\t ipykernel\t json\t jupyter_config_dir\t notebook_path\t \n",
      "notebookapp\t os\t pd\t pickle\t preprocess_data\t print_all_files_ending_starting_with\t print_all_files_ending_with\t print_all_files_starting_with\t re\t \n",
      "remove_empty_folders\t s\t similar\t subprocess\t sys\t time\t urllib\t \n"
     ]
    }
   ],
   "source": [
    "\n",
    "gi = get_ipython()\n",
    "#print([fn for fn in dir(gi) if not fn.startswith('_')])\n",
    "gi.run_line_magic('who', '')"
   ]
  },
  {
   "cell_type": "code",
   "execution_count": 23,
   "metadata": {},
   "outputs": [
    {
     "name": "stdout",
     "output_type": "stream",
     "text": [
      "/home/jovyan/repos/data-foundations/saves/yml/deployment.yaml\n"
     ]
    }
   ],
   "source": [
    "\n",
    "black_list = ['.ipynb_checkpoints']\n",
    "print_all_files_ending_starting_with(root_dir=r'/', ends_with=['.yaml', '.yml'],\n",
    "                                     starts_with='deployment', black_list=black_list)"
   ]
  },
  {
   "cell_type": "code",
   "execution_count": null,
   "metadata": {},
   "outputs": [],
   "source": [
    "\n",
    "print_all_files_ending_with(root_dir=r'/', ends_with=['.yaml', '.yml'])"
   ]
  },
  {
   "cell_type": "code",
   "execution_count": 14,
   "metadata": {},
   "outputs": [],
   "source": [
    "\n",
    "black_list = ['.ipynb_checkpoints']\n",
    "for root_dir in [r'C:\\\\', r'D:\\\\']:\n",
    "    for sub_directory, directories_list, files_list in os.walk(root_dir):\n",
    "        print(files_list)\n",
    "        break\n",
    "        if all(map(lambda x: x not in sub_directory, black_list)):\n",
    "            for file_name in files_list:\n",
    "                endswith_bool = False\n",
    "                for ends_with in ['.yml', '.yaml']:\n",
    "                    endswith_bool = endswith_bool or file_name.endswith(ends_with)\n",
    "                startswith_bool = False\n",
    "                for starts_with in ['deployment']:\n",
    "                    startswith_bool = startswith_bool or file_name.startswith(starts_with)\n",
    "                if endswith_bool and startswith_bool:\n",
    "                    file_path = os.path.join(sub_directory, file_name)\n",
    "                    print(file_path)"
   ]
  },
  {
   "cell_type": "code",
   "execution_count": 11,
   "metadata": {},
   "outputs": [
    {
     "data": {
      "text/plain": [
       "\u001b[0;31mSignature:\u001b[0m\n",
       "\u001b[0mprint_all_files_ending_starting_with\u001b[0m\u001b[0;34m(\u001b[0m\u001b[0;34m\u001b[0m\n",
       "\u001b[0;34m\u001b[0m    \u001b[0mroot_dir\u001b[0m\u001b[0;34m=\u001b[0m\u001b[0;34m'D:\\\\Documents\\\\Repositories'\u001b[0m\u001b[0;34m,\u001b[0m\u001b[0;34m\u001b[0m\n",
       "\u001b[0;34m\u001b[0m    \u001b[0mends_with\u001b[0m\u001b[0;34m=\u001b[0m\u001b[0;34m'.yml'\u001b[0m\u001b[0;34m,\u001b[0m\u001b[0;34m\u001b[0m\n",
       "\u001b[0;34m\u001b[0m    \u001b[0mstarts_with\u001b[0m\u001b[0;34m=\u001b[0m\u001b[0;34m'install_config_'\u001b[0m\u001b[0;34m,\u001b[0m\u001b[0;34m\u001b[0m\n",
       "\u001b[0;34m\u001b[0m    \u001b[0mblack_list\u001b[0m\u001b[0;34m=\u001b[0m\u001b[0;34m[\u001b[0m\u001b[0;34m'$RECYCLE.BIN'\u001b[0m\u001b[0;34m,\u001b[0m \u001b[0;34m'$Recycle.Bin'\u001b[0m\u001b[0;34m]\u001b[0m\u001b[0;34m,\u001b[0m\u001b[0;34m\u001b[0m\n",
       "\u001b[0;34m\u001b[0m\u001b[0;34m)\u001b[0m\u001b[0;34m\u001b[0m\u001b[0;34m\u001b[0m\u001b[0m\n",
       "\u001b[0;31mDocstring:\u001b[0m <no docstring>\n",
       "\u001b[0;31mSource:\u001b[0m   \n",
       "\u001b[0;32mdef\u001b[0m \u001b[0mprint_all_files_ending_starting_with\u001b[0m\u001b[0;34m(\u001b[0m\u001b[0mroot_dir\u001b[0m\u001b[0;34m=\u001b[0m\u001b[0;34mr'D:\\Documents\\Repositories'\u001b[0m\u001b[0;34m,\u001b[0m \u001b[0mends_with\u001b[0m\u001b[0;34m=\u001b[0m\u001b[0;34m'.yml'\u001b[0m\u001b[0;34m,\u001b[0m \u001b[0mstarts_with\u001b[0m\u001b[0;34m=\u001b[0m\u001b[0;34m'install_config_'\u001b[0m\u001b[0;34m,\u001b[0m\u001b[0;34m\u001b[0m\n",
       "\u001b[0;34m\u001b[0m                                         \u001b[0mblack_list\u001b[0m\u001b[0;34m=\u001b[0m\u001b[0;34m[\u001b[0m\u001b[0;34m'$RECYCLE.BIN'\u001b[0m\u001b[0;34m,\u001b[0m \u001b[0;34m'$Recycle.Bin'\u001b[0m\u001b[0;34m]\u001b[0m\u001b[0;34m)\u001b[0m\u001b[0;34m:\u001b[0m\u001b[0;34m\u001b[0m\n",
       "\u001b[0;34m\u001b[0m    \u001b[0;32mif\u001b[0m \u001b[0mtype\u001b[0m\u001b[0;34m(\u001b[0m\u001b[0mroot_dir\u001b[0m\u001b[0;34m)\u001b[0m \u001b[0;34m==\u001b[0m \u001b[0mlist\u001b[0m\u001b[0;34m:\u001b[0m\u001b[0;34m\u001b[0m\n",
       "\u001b[0;34m\u001b[0m        \u001b[0mroot_dir_list\u001b[0m \u001b[0;34m=\u001b[0m \u001b[0mroot_dir\u001b[0m\u001b[0;34m\u001b[0m\n",
       "\u001b[0;34m\u001b[0m    \u001b[0;32melse\u001b[0m\u001b[0;34m:\u001b[0m\u001b[0;34m\u001b[0m\n",
       "\u001b[0;34m\u001b[0m        \u001b[0mroot_dir_list\u001b[0m \u001b[0;34m=\u001b[0m \u001b[0;34m[\u001b[0m\u001b[0mroot_dir\u001b[0m\u001b[0;34m]\u001b[0m\u001b[0;34m\u001b[0m\n",
       "\u001b[0;34m\u001b[0m    \u001b[0;32mif\u001b[0m \u001b[0mtype\u001b[0m\u001b[0;34m(\u001b[0m\u001b[0mends_with\u001b[0m\u001b[0;34m)\u001b[0m \u001b[0;34m==\u001b[0m \u001b[0mlist\u001b[0m\u001b[0;34m:\u001b[0m\u001b[0;34m\u001b[0m\n",
       "\u001b[0;34m\u001b[0m        \u001b[0mendswith_list\u001b[0m \u001b[0;34m=\u001b[0m \u001b[0mends_with\u001b[0m\u001b[0;34m\u001b[0m\n",
       "\u001b[0;34m\u001b[0m    \u001b[0;32melse\u001b[0m\u001b[0;34m:\u001b[0m\u001b[0;34m\u001b[0m\n",
       "\u001b[0;34m\u001b[0m        \u001b[0mendswith_list\u001b[0m \u001b[0;34m=\u001b[0m \u001b[0;34m[\u001b[0m\u001b[0mends_with\u001b[0m\u001b[0;34m]\u001b[0m\u001b[0;34m\u001b[0m\n",
       "\u001b[0;34m\u001b[0m    \u001b[0;32mif\u001b[0m \u001b[0mtype\u001b[0m\u001b[0;34m(\u001b[0m\u001b[0mstarts_with\u001b[0m\u001b[0;34m)\u001b[0m \u001b[0;34m==\u001b[0m \u001b[0mlist\u001b[0m\u001b[0;34m:\u001b[0m\u001b[0;34m\u001b[0m\n",
       "\u001b[0;34m\u001b[0m        \u001b[0mstartswith_list\u001b[0m \u001b[0;34m=\u001b[0m \u001b[0mstarts_with\u001b[0m\u001b[0;34m\u001b[0m\n",
       "\u001b[0;34m\u001b[0m    \u001b[0;32melse\u001b[0m\u001b[0;34m:\u001b[0m\u001b[0;34m\u001b[0m\n",
       "\u001b[0;34m\u001b[0m        \u001b[0mstartswith_list\u001b[0m \u001b[0;34m=\u001b[0m \u001b[0;34m[\u001b[0m\u001b[0mstarts_with\u001b[0m\u001b[0;34m]\u001b[0m\u001b[0;34m\u001b[0m\n",
       "\u001b[0;34m\u001b[0m    \u001b[0;32mfor\u001b[0m \u001b[0mroot_dir\u001b[0m \u001b[0;32min\u001b[0m \u001b[0mroot_dir_list\u001b[0m\u001b[0;34m:\u001b[0m\u001b[0;34m\u001b[0m\n",
       "\u001b[0;34m\u001b[0m        \u001b[0;32mfor\u001b[0m \u001b[0msub_directory\u001b[0m\u001b[0;34m,\u001b[0m \u001b[0mdirectories_list\u001b[0m\u001b[0;34m,\u001b[0m \u001b[0mfiles_list\u001b[0m \u001b[0;32min\u001b[0m \u001b[0mos\u001b[0m\u001b[0;34m.\u001b[0m\u001b[0mwalk\u001b[0m\u001b[0;34m(\u001b[0m\u001b[0mroot_dir\u001b[0m\u001b[0;34m)\u001b[0m\u001b[0;34m:\u001b[0m\u001b[0;34m\u001b[0m\n",
       "\u001b[0;34m\u001b[0m            \u001b[0;32mif\u001b[0m \u001b[0mall\u001b[0m\u001b[0;34m(\u001b[0m\u001b[0mmap\u001b[0m\u001b[0;34m(\u001b[0m\u001b[0;32mlambda\u001b[0m \u001b[0mx\u001b[0m\u001b[0;34m:\u001b[0m \u001b[0mx\u001b[0m \u001b[0;32mnot\u001b[0m \u001b[0;32min\u001b[0m \u001b[0msub_directory\u001b[0m\u001b[0;34m,\u001b[0m \u001b[0mblack_list\u001b[0m\u001b[0;34m)\u001b[0m\u001b[0;34m)\u001b[0m\u001b[0;34m:\u001b[0m\u001b[0;34m\u001b[0m\n",
       "\u001b[0;34m\u001b[0m                \u001b[0;32mfor\u001b[0m \u001b[0mfile_name\u001b[0m \u001b[0;32min\u001b[0m \u001b[0mfiles_list\u001b[0m\u001b[0;34m:\u001b[0m\u001b[0;34m\u001b[0m\n",
       "\u001b[0;34m\u001b[0m                    \u001b[0mendswith_bool\u001b[0m \u001b[0;34m=\u001b[0m \u001b[0;32mFalse\u001b[0m\u001b[0;34m\u001b[0m\n",
       "\u001b[0;34m\u001b[0m                    \u001b[0;32mfor\u001b[0m \u001b[0mends_with\u001b[0m \u001b[0;32min\u001b[0m \u001b[0mendswith_list\u001b[0m\u001b[0;34m:\u001b[0m\u001b[0;34m\u001b[0m\n",
       "\u001b[0;34m\u001b[0m                        \u001b[0mendswith_bool\u001b[0m \u001b[0;34m=\u001b[0m \u001b[0mendswith_bool\u001b[0m \u001b[0;32mor\u001b[0m \u001b[0mfile_name\u001b[0m\u001b[0;34m.\u001b[0m\u001b[0mendswith\u001b[0m\u001b[0;34m(\u001b[0m\u001b[0mends_with\u001b[0m\u001b[0;34m)\u001b[0m\u001b[0;34m\u001b[0m\n",
       "\u001b[0;34m\u001b[0m                    \u001b[0mstartswith_bool\u001b[0m \u001b[0;34m=\u001b[0m \u001b[0;32mFalse\u001b[0m\u001b[0;34m\u001b[0m\n",
       "\u001b[0;34m\u001b[0m                    \u001b[0;32mfor\u001b[0m \u001b[0mstarts_with\u001b[0m \u001b[0;32min\u001b[0m \u001b[0mstartswith_list\u001b[0m\u001b[0;34m:\u001b[0m\u001b[0;34m\u001b[0m\n",
       "\u001b[0;34m\u001b[0m                        \u001b[0mstartswith_bool\u001b[0m \u001b[0;34m=\u001b[0m \u001b[0mstartswith_bool\u001b[0m \u001b[0;32mor\u001b[0m \u001b[0mfile_name\u001b[0m\u001b[0;34m.\u001b[0m\u001b[0mstartswith\u001b[0m\u001b[0;34m(\u001b[0m\u001b[0mstarts_with\u001b[0m\u001b[0;34m)\u001b[0m\u001b[0;34m\u001b[0m\n",
       "\u001b[0;34m\u001b[0m                    \u001b[0;32mif\u001b[0m \u001b[0mendswith_bool\u001b[0m \u001b[0;32mand\u001b[0m \u001b[0mstartswith_bool\u001b[0m\u001b[0;34m:\u001b[0m\u001b[0;34m\u001b[0m\n",
       "\u001b[0;34m\u001b[0m                        \u001b[0mfile_path\u001b[0m \u001b[0;34m=\u001b[0m \u001b[0mos\u001b[0m\u001b[0;34m.\u001b[0m\u001b[0mpath\u001b[0m\u001b[0;34m.\u001b[0m\u001b[0mjoin\u001b[0m\u001b[0;34m(\u001b[0m\u001b[0msub_directory\u001b[0m\u001b[0;34m,\u001b[0m \u001b[0mfile_name\u001b[0m\u001b[0;34m)\u001b[0m\u001b[0;34m\u001b[0m\n",
       "\u001b[0;34m\u001b[0m                        \u001b[0mprint\u001b[0m\u001b[0;34m(\u001b[0m\u001b[0mfile_path\u001b[0m\u001b[0;34m)\u001b[0m\u001b[0;34m\u001b[0m\u001b[0;34m\u001b[0m\u001b[0m\n",
       "\u001b[0;31mFile:\u001b[0m      ~/repos/notebooks/load_magic/paths.py\n",
       "\u001b[0;31mType:\u001b[0m      function\n"
      ]
     },
     "metadata": {},
     "output_type": "display_data"
    }
   ],
   "source": [
    "\n",
    "print_all_files_ending_starting_with??"
   ]
  },
  {
   "cell_type": "code",
   "execution_count": null,
   "metadata": {},
   "outputs": [],
   "source": [
    "\n",
    "f_list = []\n",
    "magic_dir = r'D:\\Documents\\Repositories\\notebooks\\load_magic'\n",
    "for file_name in os.listdir(magic_dir):\n",
    "    if file_name.endswith('.py'):\n",
    "        f_list.append(file_name)\n",
    "root_dir_list = ['D:\\Documents\\Repositories']\n",
    "dir_list = ['py', 'load_magic']\n",
    "magic_dict = {file_name: [] for file_name in f_list}\n",
    "for root_dir in root_dir_list:\n",
    "    for sub_directory, directories_list, files_list in os.walk(root_dir):\n",
    "        if sub_directory.split(os.sep)[-1] in dir_list:\n",
    "            for file_name in files_list:\n",
    "                if file_name in f_list:\n",
    "                    file_path = os.path.join(sub_directory, file_name)\n",
    "                    magic_dict_list = magic_dict[file_name]\n",
    "                    magic_dict_list.append(file_path)\n",
    "                    magic_dict[file_name] = magic_dict_list\n",
    "comparator_path = 'wincmp3.exe'\n",
    "print(magic_dict.keys())"
   ]
  },
  {
   "cell_type": "code",
   "execution_count": null,
   "metadata": {},
   "outputs": [],
   "source": [
    "\n",
    "magic_dict_list = magic_dict['environment.py']\n",
    "print(len(magic_dict_list))\n",
    "subprocess.run([comparator_path, os.path.abspath(magic_dict_list[0]), os.path.abspath(magic_dict_list[3])])"
   ]
  },
  {
   "cell_type": "code",
   "execution_count": null,
   "metadata": {},
   "outputs": [],
   "source": [
    "\n",
    "remove_empty_folders(folder_path=r'D:\\VirtualBox VMs')"
   ]
  },
  {
   "cell_type": "code",
   "execution_count": null,
   "metadata": {},
   "outputs": [],
   "source": [
    "\n",
    "get_specific_gitignore_files('Data-Science', repository_dir=r'D:\\Documents\\Repositories')"
   ]
  },
  {
   "cell_type": "code",
   "execution_count": null,
   "metadata": {},
   "outputs": [],
   "source": [
    "\n",
    "print_all_files_ending_with(root_dir=r'D:\\\\', ends_with='.box')"
   ]
  },
  {
   "cell_type": "code",
   "execution_count": null,
   "metadata": {},
   "outputs": [],
   "source": [
    "\n",
    "print_all_files_starting_with(root_dir=r'D:\\Vagrant_Projects\\local-vagrant', starts_with='host')"
   ]
  },
  {
   "cell_type": "code",
   "execution_count": null,
   "metadata": {},
   "outputs": [],
   "source": [
    "\n",
    "print_all_files_ending_with(root_dir=r'D:\\Vagrant_Projects\\local-vagrant', ends_with=['.yml', '.yaml'])"
   ]
  },
  {
   "cell_type": "code",
   "execution_count": null,
   "metadata": {},
   "outputs": [],
   "source": [
    "\n",
    "print_all_files_ending_starting_with(root_dir=r'D:\\Documents\\Repositories', ends_with='.yml', starts_with='install_config_')"
   ]
  },
  {
   "cell_type": "code",
   "execution_count": null,
   "metadata": {},
   "outputs": [],
   "source": [
    "\n",
    "print_all_files_ending_starting_with(root_dir=['C:\\\\', 'D:\\\\'], ends_with='.yaml', starts_with='common')"
   ]
  },
  {
   "cell_type": "code",
   "execution_count": null,
   "metadata": {},
   "outputs": [],
   "source": [
    "\n",
    "print('The support modules are:')\n",
    "mov_dir = r'D:\\Vagrant_Projects\\local-vagrant\\afdcgscicd-1323-setup\\osif\\support\\modules'\n",
    "for file_name in os.listdir(mov_dir):\n",
    "    if file_name.endswith('.tar.gz'):\n",
    "        print(file_name)"
   ]
  },
  {
   "cell_type": "code",
   "execution_count": null,
   "metadata": {},
   "outputs": [],
   "source": [
    "\n",
    "print('The puppet modules are:')\n",
    "mov_dir = r'D:\\Vagrant_Projects\\local-vagrant\\afdcgscicd-1323-setup\\osif\\puppet\\modules'\n",
    "for sub_directory, directories_list, files_list in os.walk('../osif/puppet/modules'):\n",
    "    for file_name in files_list:\n",
    "        if file_name.endswith('.tar.gz'):\n",
    "            print('{}'.format(file_name))"
   ]
  },
  {
   "cell_type": "code",
   "execution_count": null,
   "metadata": {},
   "outputs": [],
   "source": [
    "\n",
    "import sys\n",
    "\n",
    "for key, value in sys.modules.items():\n",
    "    if 'xdist' in key.lower():\n",
    "        #print('{}: {}'.format(key, value))\n",
    "        print('{}'.format(key))"
   ]
  },
  {
   "cell_type": "code",
   "execution_count": null,
   "metadata": {},
   "outputs": [],
   "source": [
    "\n",
    "test_name = 'test'\n",
    "'{}.xlsx'.format('_'.join([test_name, 'keywords']))"
   ]
  },
  {
   "cell_type": "code",
   "execution_count": null,
   "metadata": {},
   "outputs": [],
   "source": [
    "\n",
    "for root_dir in ['C:\\\\', 'D:\\\\']:\n",
    "    for sub_directory, directories_list, files_list in os.walk(root_dir):\n",
    "        if 'pysvg' in sub_directory.split(os.sep)[-1].lower():\n",
    "            print(sub_directory)\n",
    "            !start %windir%\\explorer.exe \"{sub_directory}\"\n",
    "        else:\n",
    "            for file_name in files_list:\n",
    "                if 'pysvg' in file_name.lower():\n",
    "                    file_path = os.path.join(sub_directory, file_name)\n",
    "                    print(file_path)"
   ]
  },
  {
   "cell_type": "code",
   "execution_count": null,
   "metadata": {},
   "outputs": [],
   "source": []
  },
  {
   "cell_type": "code",
   "execution_count": null,
   "metadata": {},
   "outputs": [],
   "source": [
    "\n",
    "black_list = ['.ipynb_checkpoints']\n",
    "print_all_files_ending_starting_with(root_dir=r'C:\\Users\\dev\\Documents\\repositories', ends_with='.exe',\n",
    "                                     starts_with='chromedriver',\n",
    "                                     black_list=black_list)"
   ]
  },
  {
   "cell_type": "code",
   "execution_count": null,
   "metadata": {},
   "outputs": [],
   "source": [
    "\n",
    "print_all_files_starting_with(root_dir=['C:\\\\', 'D:\\\\'], starts_with='jupyter_notebook_config')"
   ]
  },
  {
   "cell_type": "code",
   "execution_count": null,
   "metadata": {},
   "outputs": [],
   "source": [
    "\n",
    "print_all_files_ending_with(root_dir=r'C:\\Users\\dev\\Documents\\repositories', ends_with='Navigation.ipynb')"
   ]
  },
  {
   "cell_type": "code",
   "execution_count": null,
   "metadata": {},
   "outputs": [],
   "source": [
    "\n",
    "magic_dict_list = magic_dict['test.py']\n",
    "print(len(magic_dict_list))\n",
    "subprocess.run([comparator_path, os.path.abspath(magic_dict_list[0]), os.path.abspath(magic_dict_list[1])])"
   ]
  },
  {
   "cell_type": "code",
   "execution_count": null,
   "metadata": {},
   "outputs": [],
   "source": [
    "\n",
    "remove_empty_folders(folder_path=r'C:\\\\')"
   ]
  },
  {
   "cell_type": "code",
   "execution_count": null,
   "metadata": {},
   "outputs": [],
   "source": [
    "\n",
    "get_specific_gitignore_files('notebooks', repository_dir=r'C:\\Users\\dev\\Documents\\repositories')"
   ]
  },
  {
   "cell_type": "code",
   "execution_count": null,
   "metadata": {},
   "outputs": [],
   "source": [
    "\n",
    "print_all_files_ending_with(root_dir=r'D:\\\\', ends_with='.box')"
   ]
  },
  {
   "cell_type": "code",
   "execution_count": null,
   "metadata": {},
   "outputs": [],
   "source": [
    "\n",
    "print_all_files_ending_starting_with(root_dir=r'C:\\Users\\dev\\Documents\\repositories', ends_with='.yml', starts_with='install_config_')"
   ]
  },
  {
   "cell_type": "code",
   "execution_count": null,
   "metadata": {},
   "outputs": [],
   "source": [
    "\n",
    "print_all_files_ending_with(root_dir=r'D:\\Vagrant_Projects\\local-vagrant', ends_with=['sh', 'bash'])"
   ]
  },
  {
   "cell_type": "code",
   "execution_count": null,
   "metadata": {},
   "outputs": [],
   "source": [
    "\n",
    "print_all_files_ending_starting_with(root_dir=['C:\\\\', 'D:\\\\'], ends_with='.yaml', starts_with='common')"
   ]
  },
  {
   "cell_type": "code",
   "execution_count": null,
   "metadata": {},
   "outputs": [],
   "source": [
    "\n",
    "import sys\n",
    "\n",
    "for key, value in sys.modules.items():\n",
    "    if 'xdist' in key.lower():\n",
    "        #print('{}: {}'.format(key, value))\n",
    "        print('{}'.format(key))"
   ]
  },
  {
   "cell_type": "code",
   "execution_count": null,
   "metadata": {},
   "outputs": [],
   "source": [
    "\n",
    "print('\\n'.join(sorted('''**/.ipynb_checkpoints/\n",
    "*.ipynb_checkpoints\n",
    "*/.ipynb_checkpoints\n",
    ".ipynb_checkpoints\n",
    ".ipynb_checkpoints*\n",
    ".ipynb_checkpoints/\n",
    ".ipynb_checkpoints/*\n",
    "/.ipynb_checkpoints'''.split('\\n'), key=lambda x: x[::-1])))"
   ]
  },
  {
   "cell_type": "code",
   "execution_count": null,
   "metadata": {},
   "outputs": [],
   "source": []
  }
 ],
 "metadata": {
  "kernelspec": {
   "display_name": "RPC (Python 3.8.6)",
   "language": "python",
   "name": "rpc"
  },
  "language_info": {
   "codemirror_mode": {
    "name": "ipython",
    "version": 3
   },
   "file_extension": ".py",
   "mimetype": "text/x-python",
   "name": "python",
   "nbconvert_exporter": "python",
   "pygments_lexer": "ipython3",
   "version": "3.8.6"
  }
 },
 "nbformat": 4,
 "nbformat_minor": 4
}
